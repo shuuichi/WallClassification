{
  "nbformat": 4,
  "nbformat_minor": 0,
  "metadata": {
    "colab": {
      "name": "WallClassification.ipynb",
      "version": "0.3.2",
      "views": {},
      "default_view": {},
      "provenance": []
    },
    "kernelspec": {
      "display_name": "Python 3",
      "language": "python",
      "name": "python3"
    },
    "accelerator": "GPU"
  },
  "cells": [
    {
      "metadata": {
        "id": "j23FvOMAW8z-",
        "colab_type": "code",
        "colab": {
          "autoexec": {
            "startup": false,
            "wait_interval": 0
          }
        }
      },
      "cell_type": "code",
      "source": [
        "import os"
      ],
      "execution_count": 0,
      "outputs": []
    },
    {
      "metadata": {
        "id": "mKyCY5FdW80B",
        "colab_type": "code",
        "colab": {
          "autoexec": {
            "startup": false,
            "wait_interval": 0
          },
          "base_uri": "https://localhost:8080/",
          "height": 105
        },
        "outputId": "9f0a1904-9f51-454b-8bc7-790d954d7d0b",
        "executionInfo": {
          "status": "ok",
          "timestamp": 1532822880668,
          "user_tz": -540,
          "elapsed": 12494,
          "user": {
            "displayName": "",
            "photoUrl": "",
            "userId": ""
          }
        }
      },
      "cell_type": "code",
      "source": [
        "# 今回使用するレポジトリをGoogle Colabの環境にクローン\n",
        "!git clone https://github.com/s0yamazaki/WallClassification.git"
      ],
      "execution_count": 2,
      "outputs": [
        {
          "output_type": "stream",
          "text": [
            "Cloning into 'WallClassification'...\n",
            "remote: Counting objects: 31398, done.\u001b[K\n",
            "remote: Total 31398 (delta 0), reused 0 (delta 0), pack-reused 31398\u001b[K\n",
            "Receiving objects: 100% (31398/31398), 331.74 MiB | 40.30 MiB/s, done.\n",
            "Resolving deltas: 100% (40/40), done.\n"
          ],
          "name": "stdout"
        }
      ]
    },
    {
      "metadata": {
        "id": "J4_BAasChLtT",
        "colab_type": "code",
        "colab": {
          "autoexec": {
            "startup": false,
            "wait_interval": 0
          },
          "base_uri": "https://localhost:8080/",
          "height": 34
        },
        "outputId": "ae53f647-f1bc-4f41-f385-a086488ff75a",
        "executionInfo": {
          "status": "ok",
          "timestamp": 1532822888481,
          "user_tz": -540,
          "elapsed": 1529,
          "user": {
            "displayName": "",
            "photoUrl": "",
            "userId": ""
          }
        }
      },
      "cell_type": "code",
      "source": [
        "# メインスクリプトである`model.py`の使用方法を表示\n",
        "!python model.py -h"
      ],
      "execution_count": 3,
      "outputs": [
        {
          "output_type": "stream",
          "text": [
            "python3: can't open file 'model.py': [Errno 2] No such file or directory\r\n"
          ],
          "name": "stdout"
        }
      ]
    },
    {
      "metadata": {
        "id": "ximz5pRYgpTL",
        "colab_type": "code",
        "colab": {
          "autoexec": {
            "startup": false,
            "wait_interval": 0
          },
          "base_uri": "https://localhost:8080/",
          "height": 87
        },
        "outputId": "4fc155b9-adfd-48e7-c13a-933b0493bf64",
        "executionInfo": {
          "status": "ok",
          "timestamp": 1532822892014,
          "user_tz": -540,
          "elapsed": 1469,
          "user": {
            "displayName": "",
            "photoUrl": "",
            "userId": ""
          }
        }
      },
      "cell_type": "code",
      "source": [
        "# メインスクリプトの格納ディレクトリに移動\n",
        "os.chdir('WallClassification')\n",
        "!ls"
      ],
      "execution_count": 4,
      "outputs": [
        {
          "output_type": "stream",
          "text": [
            "classes_extractor.py  googleImageDownloader.json  resize.py\r\n",
            "continue_fit.py       model.py\t\t\t  semi-teching.py\r\n",
            "crop.py\t\t      resized_cleaned\t\t  WallClassification.ipynb\r\n",
            "erase_duplicates.py   resized_val\r\n"
          ],
          "name": "stdout"
        }
      ]
    },
    {
      "metadata": {
        "id": "YT265URr38GV",
        "colab_type": "code",
        "colab": {
          "autoexec": {
            "startup": false,
            "wait_interval": 0
          }
        }
      },
      "cell_type": "code",
      "source": [
        "# メインスクリプトを実行\n",
        "# !python model.py testmodel"
      ],
      "execution_count": 0,
      "outputs": []
    },
    {
      "metadata": {
        "id": "YavUPXaAW80M",
        "colab_type": "code",
        "colab": {
          "autoexec": {
            "startup": false,
            "wait_interval": 0
          },
          "base_uri": "https://localhost:8080/",
          "height": 158
        },
        "outputId": "5e1ba90a-c0c9-4ac7-a32e-0506b7727310",
        "executionInfo": {
          "status": "ok",
          "timestamp": 1532822905439,
          "user_tz": -540,
          "elapsed": 2740,
          "user": {
            "displayName": "",
            "photoUrl": "",
            "userId": ""
          }
        }
      },
      "cell_type": "code",
      "source": [
        "# 生成されたファイルとディレクトリを表示\n",
        "print('* カレントディレクトリ')\n",
        "!ls .\n",
        "print('\\n* testmodel ディレクトリ')\n",
        "!ls ./testmodel"
      ],
      "execution_count": 5,
      "outputs": [
        {
          "output_type": "stream",
          "text": [
            "* カレントディレクトリ\n",
            "classes_extractor.py  googleImageDownloader.json  resize.py\n",
            "continue_fit.py       model.py\t\t\t  semi-teching.py\n",
            "crop.py\t\t      resized_cleaned\t\t  WallClassification.ipynb\n",
            "erase_duplicates.py   resized_val\n",
            "\n",
            "* testmodel ディレクトリ\n",
            "ls: cannot access './testmodel': No such file or directory\n"
          ],
          "name": "stdout"
        }
      ]
    },
    {
      "metadata": {
        "id": "thzz6A2MXJqn",
        "colab_type": "code",
        "colab": {
          "autoexec": {
            "startup": false,
            "wait_interval": 0
          },
          "base_uri": "https://localhost:8080/",
          "height": 34
        },
        "outputId": "be1415c0-d1fe-40da-daf1-8b6a46770cb3",
        "executionInfo": {
          "status": "ok",
          "timestamp": 1532822960617,
          "user_tz": -540,
          "elapsed": 8233,
          "user": {
            "displayName": "",
            "photoUrl": "",
            "userId": ""
          }
        }
      },
      "cell_type": "code",
      "source": [
        "\"\"\"\n",
        "サンプルのモデルの定義と訓練を行うモジュール\n",
        "vgg16をベースにした転移学習モデルとなっている。\n",
        "\"\"\"\n",
        "from keras.models import Model,Sequential\n",
        "import tensorflow as tf\n",
        "from keras.layers.convolutional import Conv2D\n",
        "from keras.layers import Activation, Dense, GlobalAveragePooling2D, Input, InputLayer, Lambda, Dropout, BatchNormalization,LeakyReLU\n",
        "from keras.backend import sigmoid\n",
        "from keras.applications.vgg16 import VGG16, preprocess_input\n",
        "from keras.preprocessing.image import ImageDataGenerator\n",
        "from keras.optimizers import SGD, Adam\n",
        "from keras.callbacks import CSVLogger\n",
        "from keras.callbacks import TensorBoard, EarlyStopping\n",
        "import sys\n",
        "import numpy as np\n",
        "from collections import Counter\n",
        "import continue_fit as cf\n",
        "from keras.utils import multi_gpu_model\n",
        "from keras import regularizers\n",
        "from keras.layers.advanced_activations import LeakyReLU\n",
        "from keras import backend as K\n",
        "\n",
        "# Swishの定義\n",
        "# http://yusuke-ujitoko.hatenablog.com/entry/2017/10/21/131232\n",
        "# https://qiita.com/kiakiraki/items/2ec24f13ee870e13a0fb\n",
        "def swish(x):\n",
        "    return x * K.sigmoid(x)\n",
        "\n",
        "def vgg_based_model(input_shape, n_categories, fulltraining = False):\n",
        "    \"\"\"\n",
        "    VGG16をベースにした転移学習モデルを生成する。\n",
        "    fulltraining: Trueにすると、ベースモデルも含めて訓練可能にする。訓練速度が非常に遅くなる。\n",
        "    \"\"\"\n",
        "    base_model=VGG16(weights='imagenet',include_top=False,\n",
        "                    input_tensor=Input(shape=input_shape))\n",
        "\n",
        "    #add new layers instead of FC networks\n",
        "    x=base_model.output\n",
        "    x=GlobalAveragePooling2D()(x)\n",
        "    x=Dense(1024)(x)\n",
        "    x=BatchNormalization()(x)\n",
        "    x=Activation(swish)(x)\n",
        "    x=Dropout(0.6)(x)\n",
        "    x=Dense(1024)(x)\n",
        "    x=BatchNormalization()(x)\n",
        "    x=Activation(swish)(x)\n",
        "    x=Dropout(0.6)(x)\n",
        "    prediction=Dense(n_categories,activation='softmax')(x)\n",
        "    model=Model(inputs=base_model.input,outputs=prediction)\n",
        "\n",
        "    if not fulltraining:\n",
        "        # fix weights before VGG16 14layers\n",
        "        for layer in base_model.layers[:15]:\n",
        "            layer.trainable=False\n",
        "    return model\n"
      ],
      "execution_count": 6,
      "outputs": [
        {
          "output_type": "stream",
          "text": [
            "Using TensorFlow backend.\n"
          ],
          "name": "stderr"
        }
      ]
    },
    {
      "metadata": {
        "id": "Bm4ZFIRWXeaq",
        "colab_type": "code",
        "colab": {
          "autoexec": {
            "startup": false,
            "wait_interval": 0
          },
          "base_uri": "https://localhost:8080/",
          "height": 3627
        },
        "outputId": "6861f64d-897f-41c9-bf64-9f4290587ff2",
        "executionInfo": {
          "status": "ok",
          "timestamp": 1532831193040,
          "user_tz": -540,
          "elapsed": 7911932,
          "user": {
            "displayName": "",
            "photoUrl": "",
            "userId": ""
          }
        }
      },
      "cell_type": "code",
      "source": [
        "# コマンドライン引数の定義/評価\n",
        "batch_size=32\n",
        "input_shape = (224,224,3)\n",
        "#  parser = argparse.ArgumentParser()\n",
        "# parser.add_argument(\"model_name\", help=\"保存するモデルファイルの名前、兼tensorBoardのログディレクトリ名\")\n",
        "# parser.add_argument(\"-t\", \"--train_dir\", default='resized_cleaned', help=\"トレーニングデータセットが入っているディレクトリ\")\n",
        "# parser.add_argument(\"-v\",\"--validation_dir\",default='resized_val', help =\"バリデーションデータセットが入っているディレクトリ\")\n",
        "# args = parser.parse_args()\n",
        "\n",
        "\n",
        "file_name = 'test09' #args.model_name\n",
        "train_dir= 'resized_cleaned' # args.train_dir\n",
        "validation_dir= 'resized_val' # args.validation_dir\n",
        "\n",
        "#訓練データの読み込み及びデータ拡張を行うための画像ジェネレータを生成。\n",
        "#VGG16用の前処理及び平行移動、回転、左右反転、シアー変換をランダムにかける。\n",
        "train_datagen=ImageDataGenerator(\n",
        "    preprocessing_function=preprocess_input, #VGG16の前処理\n",
        "    height_shift_range=0.02,\n",
        "    width_shift_range=0.02,\n",
        "    shear_range=0.05,\n",
        "    zoom_range=0.05,\n",
        "    rotation_range=5,\n",
        "    horizontal_flip=True,\n",
        "    )\n",
        "train_generator=train_datagen.flow_from_directory(\n",
        "    train_dir,\n",
        "    target_size=input_shape[0:2],\n",
        "    batch_size=batch_size,\n",
        "    class_mode='categorical',\n",
        "    shuffle=True\n",
        "    )\n",
        "\n",
        "\n",
        "n_categories=len(train_generator.class_indices)\n",
        "#サンプルの多いクラスに予測が集中しないように、少ないサンプルのクラスほど重くなるように重みづけ\n",
        "class_weight ={ clss: len(train_generator.classes) / len(train_generator.class_indices) / count\n",
        "                 for (clss,count) in Counter(train_generator.classes).most_common() }\n",
        "print(\"classes:\",train_generator.class_indices)\n",
        "print(\"class weight:\",class_weight)\n",
        "\n",
        "#バリデーションデータの画像読み込み処理を行うジェネレータを生成\n",
        "validation_datagen=ImageDataGenerator(\n",
        "    preprocessing_function=preprocess_input,\n",
        "    )\n",
        "validation_generator=validation_datagen.flow_from_directory(\n",
        "    validation_dir,\n",
        "    target_size=input_shape[0:2],\n",
        "    batch_size=batch_size,\n",
        "    class_mode='categorical',\n",
        "    shuffle=True\n",
        ")\n",
        "\n",
        "model = vgg_based_model(input_shape, n_categories)\n",
        "# parallel_model = multi_gpu_model(model, gpus=2)   #マルチGPUを使うときはこちら\n",
        "\n",
        "model.compile(optimizer=Adam(lr=1e-3),\n",
        "            loss='categorical_crossentropy',\n",
        "            metrics=['accuracy'])\n",
        "\n",
        "#訓練(中断しても続きから継続できる)\n",
        "hist=model.fit_generator(\n",
        "    train_generator,\n",
        "    epochs=100,\n",
        "    #initial_epoch=cf.load_epoch_init(file_name), # 同じモデル名でも結果を引き継がないようにコメントアウト\n",
        "    # use_multiprocessing=True,\n",
        "    verbose=1,\n",
        "    workers=8,\n",
        "    validation_data=validation_generator,\n",
        "    class_weight=class_weight,\n",
        "    callbacks=[\n",
        "        CSVLogger(file_name+'.csv'),\n",
        "        TensorBoard(file_name),\n",
        "        cf.early_stopping(model, file_name),\n",
        "        ])"
      ],
      "execution_count": 8,
      "outputs": [
        {
          "output_type": "stream",
          "text": [
            "Found 5234 images belonging to 11 classes.\n",
            "classes: {'ALC板': 0, 'ガラスカーテンウォール': 1, 'ガラスブロック': 2, 'コンクリートブロック': 3, 'コンクリート打ち放し': 4, 'スパンドレル': 5, 'スレート波板張り': 6, 'タイル張り': 7, '吹付タイル': 8, '押出成形セメント板': 9, '石張り': 10}\n",
            "class weight: {7: 0.38527788001472213, 1: 0.48701963338606125, 3: 0.6000229278917804, 4: 0.8994672624162227, 5: 0.967110125646711, 0: 1.310793889306286, 2: 1.6295143212951433, 9: 2.0687747035573123, 8: 2.44009324009324, 10: 5.4070247933884295, 6: 11.895454545454545}\n",
            "Found 1020 images belonging to 11 classes.\n",
            "Epoch 1/100\n",
            "161/164 [============================>.] - ETA: 1s - loss: 2.5159 - acc: 0.2284"
          ],
          "name": "stdout"
        },
        {
          "output_type": "stream",
          "text": [
            "164/164 [==============================] - 85s 515ms/step - loss: 2.5106 - acc: 0.2282 - val_loss: 3.4377 - val_acc: 0.1500\n",
            "Epoch 2/100\n",
            "164/164 [==============================] - 78s 478ms/step - loss: 1.9340 - acc: 0.3428 - val_loss: 2.5502 - val_acc: 0.3392\n",
            "Epoch 3/100\n",
            "164/164 [==============================] - 79s 479ms/step - loss: 1.5807 - acc: 0.4426 - val_loss: 2.2835 - val_acc: 0.3157\n",
            "Epoch 4/100\n",
            " 11/164 [=>............................] - ETA: 53s - loss: 1.3349 - acc: 0.4858"
          ],
          "name": "stdout"
        },
        {
          "output_type": "stream",
          "text": [
            "164/164 [==============================] - 78s 476ms/step - loss: 1.3583 - acc: 0.5205 - val_loss: 1.5018 - val_acc: 0.5343\n",
            "Epoch 5/100\n",
            "164/164 [==============================] - 78s 477ms/step - loss: 1.2780 - acc: 0.5647 - val_loss: 1.7902 - val_acc: 0.4510\n",
            "Epoch 6/100\n",
            "147/164 [=========================>....] - ETA: 7s - loss: 1.0991 - acc: 0.6134"
          ],
          "name": "stdout"
        },
        {
          "output_type": "stream",
          "text": [
            "164/164 [==============================] - 78s 475ms/step - loss: 1.1030 - acc: 0.6104 - val_loss: 1.5012 - val_acc: 0.5500\n",
            "Epoch 7/100\n",
            "164/164 [==============================] - 78s 478ms/step - loss: 0.9633 - acc: 0.6453 - val_loss: 1.2924 - val_acc: 0.5931\n",
            "Epoch 8/100\n",
            "164/164 [==============================] - 79s 483ms/step - loss: 0.9348 - acc: 0.6604 - val_loss: 1.3387 - val_acc: 0.5735\n",
            "Epoch 9/100\n",
            "  9/164 [>.............................] - ETA: 53s - loss: 0.8170 - acc: 0.7083"
          ],
          "name": "stdout"
        },
        {
          "output_type": "stream",
          "text": [
            "164/164 [==============================] - 79s 479ms/step - loss: 0.8140 - acc: 0.6922 - val_loss: 1.7545 - val_acc: 0.5206\n",
            "Epoch 10/100\n",
            "164/164 [==============================] - 78s 477ms/step - loss: 0.7935 - acc: 0.7105 - val_loss: 1.2687 - val_acc: 0.6118\n",
            "Epoch 11/100\n",
            "145/164 [=========================>....] - ETA: 7s - loss: 0.7086 - acc: 0.7369"
          ],
          "name": "stdout"
        },
        {
          "output_type": "stream",
          "text": [
            "164/164 [==============================] - 79s 479ms/step - loss: 0.7124 - acc: 0.7323 - val_loss: 1.3417 - val_acc: 0.6108\n",
            "Epoch 12/100\n",
            "164/164 [==============================] - 79s 480ms/step - loss: 0.6695 - acc: 0.7476 - val_loss: 1.2811 - val_acc: 0.6333\n",
            "Epoch 13/100\n",
            "164/164 [==============================] - 79s 481ms/step - loss: 0.5859 - acc: 0.7768 - val_loss: 1.3433 - val_acc: 0.6235\n",
            "Epoch 14/100\n",
            "  7/164 [>.............................] - ETA: 54s - loss: 0.6613 - acc: 0.7232"
          ],
          "name": "stdout"
        },
        {
          "output_type": "stream",
          "text": [
            "164/164 [==============================] - 79s 479ms/step - loss: 0.5672 - acc: 0.7828 - val_loss: 1.2026 - val_acc: 0.6725\n",
            "Epoch 15/100\n",
            "164/164 [==============================] - 79s 479ms/step - loss: 0.5420 - acc: 0.7933 - val_loss: 1.2432 - val_acc: 0.6549\n",
            "Epoch 16/100\n",
            "144/164 [=========================>....] - ETA: 8s - loss: 0.4414 - acc: 0.8264"
          ],
          "name": "stdout"
        },
        {
          "output_type": "stream",
          "text": [
            "164/164 [==============================] - 78s 475ms/step - loss: 0.4520 - acc: 0.8224 - val_loss: 1.5667 - val_acc: 0.5902\n",
            "Epoch 17/100\n",
            "164/164 [==============================] - 79s 484ms/step - loss: 0.3568 - acc: 0.8505 - val_loss: 1.2555 - val_acc: 0.6735\n",
            "Epoch 18/100\n",
            "164/164 [==============================] - 78s 477ms/step - loss: 0.3636 - acc: 0.8515 - val_loss: 1.7779 - val_acc: 0.5824\n",
            "Epoch 19/100\n",
            "  7/164 [>.............................] - ETA: 53s - loss: 0.3349 - acc: 0.8438"
          ],
          "name": "stdout"
        },
        {
          "output_type": "stream",
          "text": [
            "164/164 [==============================] - 78s 477ms/step - loss: 0.3130 - acc: 0.8703 - val_loss: 6.6353 - val_acc: 0.3078\n",
            "Epoch 20/100\n",
            "164/164 [==============================] - 79s 479ms/step - loss: 0.3362 - acc: 0.8670 - val_loss: 1.8243 - val_acc: 0.6069\n",
            "Epoch 21/100\n",
            "144/164 [=========================>....] - ETA: 8s - loss: 0.2659 - acc: 0.8871"
          ],
          "name": "stdout"
        },
        {
          "output_type": "stream",
          "text": [
            "164/164 [==============================] - 79s 480ms/step - loss: 0.2786 - acc: 0.8841 - val_loss: 2.0668 - val_acc: 0.5529\n",
            "Epoch 22/100\n",
            "164/164 [==============================] - 79s 480ms/step - loss: 0.3479 - acc: 0.8714 - val_loss: 1.6305 - val_acc: 0.6284\n",
            "Epoch 23/100\n",
            "164/164 [==============================] - 79s 480ms/step - loss: 0.2980 - acc: 0.8795 - val_loss: 1.4232 - val_acc: 0.6706\n",
            "Epoch 24/100\n",
            "  7/164 [>.............................] - ETA: 53s - loss: 0.2666 - acc: 0.9107"
          ],
          "name": "stdout"
        },
        {
          "output_type": "stream",
          "text": [
            "164/164 [==============================] - 79s 480ms/step - loss: 0.2790 - acc: 0.9006 - val_loss: 1.8778 - val_acc: 0.6451\n",
            "Epoch 25/100\n",
            "164/164 [==============================] - 79s 479ms/step - loss: 0.2266 - acc: 0.8985 - val_loss: 1.2901 - val_acc: 0.7147\n",
            "Epoch 26/100\n",
            "144/164 [=========================>....] - ETA: 8s - loss: 0.1363 - acc: 0.9323"
          ],
          "name": "stdout"
        },
        {
          "output_type": "stream",
          "text": [
            "164/164 [==============================] - 78s 477ms/step - loss: 0.1838 - acc: 0.9230 - val_loss: 2.6505 - val_acc: 0.5627\n",
            "Epoch 27/100\n",
            "164/164 [==============================] - 79s 480ms/step - loss: 0.2645 - acc: 0.8920 - val_loss: 1.6489 - val_acc: 0.6588\n",
            "Epoch 28/100\n",
            "164/164 [==============================] - 78s 476ms/step - loss: 0.1510 - acc: 0.9268 - val_loss: 1.5425 - val_acc: 0.6961\n",
            "Epoch 29/100\n",
            "  7/164 [>.............................] - ETA: 53s - loss: 0.1376 - acc: 0.9598"
          ],
          "name": "stdout"
        },
        {
          "output_type": "stream",
          "text": [
            "164/164 [==============================] - 78s 478ms/step - loss: 0.2882 - acc: 0.8960 - val_loss: 1.5118 - val_acc: 0.6902\n",
            "Epoch 30/100\n",
            "164/164 [==============================] - 79s 479ms/step - loss: 0.1581 - acc: 0.9368 - val_loss: 1.7405 - val_acc: 0.6745\n",
            "Epoch 31/100\n",
            "144/164 [=========================>....] - ETA: 8s - loss: 0.1433 - acc: 0.9389"
          ],
          "name": "stdout"
        },
        {
          "output_type": "stream",
          "text": [
            "164/164 [==============================] - 78s 478ms/step - loss: 0.1520 - acc: 0.9341 - val_loss: 1.7119 - val_acc: 0.6706\n",
            "Epoch 32/100\n",
            "164/164 [==============================] - 78s 476ms/step - loss: 0.1100 - acc: 0.9526 - val_loss: 1.7263 - val_acc: 0.6853\n",
            "Epoch 33/100\n",
            "164/164 [==============================] - 78s 476ms/step - loss: 0.0991 - acc: 0.9569 - val_loss: 1.6343 - val_acc: 0.6941\n",
            "Epoch 34/100\n",
            "  7/164 [>.............................] - ETA: 53s - loss: 0.0705 - acc: 0.9688"
          ],
          "name": "stdout"
        },
        {
          "output_type": "stream",
          "text": [
            "164/164 [==============================] - 78s 476ms/step - loss: 0.1039 - acc: 0.9583 - val_loss: 1.7654 - val_acc: 0.6686\n",
            "Epoch 35/100\n",
            "164/164 [==============================] - 77s 468ms/step - loss: 0.0865 - acc: 0.9653 - val_loss: 1.5498 - val_acc: 0.7284\n",
            "Epoch 36/100\n",
            "144/164 [=========================>....] - ETA: 8s - loss: 0.0703 - acc: 0.9705"
          ],
          "name": "stdout"
        },
        {
          "output_type": "stream",
          "text": [
            "164/164 [==============================] - 77s 471ms/step - loss: 0.0837 - acc: 0.9664 - val_loss: 1.5666 - val_acc: 0.6980\n",
            "Epoch 37/100\n",
            "164/164 [==============================] - 78s 473ms/step - loss: 0.0827 - acc: 0.9647 - val_loss: 1.6545 - val_acc: 0.6882\n",
            "Epoch 38/100\n",
            "164/164 [==============================] - 77s 469ms/step - loss: 0.0698 - acc: 0.9743 - val_loss: 1.6279 - val_acc: 0.6794\n",
            "Epoch 39/100\n",
            "  7/164 [>.............................] - ETA: 53s - loss: 0.0660 - acc: 0.9554"
          ],
          "name": "stdout"
        },
        {
          "output_type": "stream",
          "text": [
            "164/164 [==============================] - 77s 470ms/step - loss: 0.1097 - acc: 0.9585 - val_loss: 2.0319 - val_acc: 0.6382\n",
            "Epoch 40/100\n",
            "164/164 [==============================] - 77s 470ms/step - loss: 0.1610 - acc: 0.9339 - val_loss: 1.8062 - val_acc: 0.6814\n",
            "Epoch 41/100\n",
            "144/164 [=========================>....] - ETA: 8s - loss: 0.1639 - acc: 0.9462"
          ],
          "name": "stdout"
        },
        {
          "output_type": "stream",
          "text": [
            "164/164 [==============================] - 77s 471ms/step - loss: 0.1598 - acc: 0.9480 - val_loss: 1.6563 - val_acc: 0.6961\n",
            "Epoch 42/100\n",
            "164/164 [==============================] - 77s 471ms/step - loss: 0.0869 - acc: 0.9644 - val_loss: 1.9489 - val_acc: 0.6549\n",
            "Epoch 43/100\n",
            "164/164 [==============================] - 77s 468ms/step - loss: 0.1452 - acc: 0.9528 - val_loss: 2.0528 - val_acc: 0.6559\n",
            "Epoch 44/100\n",
            "  7/164 [>.............................] - ETA: 53s - loss: 0.1114 - acc: 0.9643"
          ],
          "name": "stdout"
        },
        {
          "output_type": "stream",
          "text": [
            "164/164 [==============================] - 77s 468ms/step - loss: 0.0932 - acc: 0.9585 - val_loss: 2.1039 - val_acc: 0.6363\n",
            "Epoch 45/100\n",
            "164/164 [==============================] - 77s 469ms/step - loss: 0.2577 - acc: 0.9269 - val_loss: 2.1426 - val_acc: 0.6441\n",
            "Epoch 46/100\n",
            "144/164 [=========================>....] - ETA: 8s - loss: 0.1323 - acc: 0.9493"
          ],
          "name": "stdout"
        },
        {
          "output_type": "stream",
          "text": [
            "164/164 [==============================] - 77s 471ms/step - loss: 0.1277 - acc: 0.9499 - val_loss: 1.5335 - val_acc: 0.7108\n",
            "Epoch 47/100\n",
            "164/164 [==============================] - 78s 475ms/step - loss: 0.0764 - acc: 0.9693 - val_loss: 1.5471 - val_acc: 0.6941\n",
            "Epoch 48/100\n",
            "164/164 [==============================] - 78s 473ms/step - loss: 0.0535 - acc: 0.9772 - val_loss: 1.6168 - val_acc: 0.7078\n",
            "Epoch 49/100\n",
            "  7/164 [>.............................] - ETA: 54s - loss: 0.0428 - acc: 0.9866"
          ],
          "name": "stdout"
        },
        {
          "output_type": "stream",
          "text": [
            "164/164 [==============================] - 77s 469ms/step - loss: 0.0505 - acc: 0.9830 - val_loss: 2.4380 - val_acc: 0.6206\n",
            "Epoch 50/100\n",
            "164/164 [==============================] - 77s 469ms/step - loss: 0.2692 - acc: 0.9136 - val_loss: 1.6961 - val_acc: 0.6902\n",
            "Epoch 51/100\n",
            "144/164 [=========================>....] - ETA: 8s - loss: 0.0823 - acc: 0.9666"
          ],
          "name": "stdout"
        },
        {
          "output_type": "stream",
          "text": [
            "164/164 [==============================] - 77s 469ms/step - loss: 0.0950 - acc: 0.9669 - val_loss: 1.9122 - val_acc: 0.6608\n",
            "Epoch 52/100\n",
            "164/164 [==============================] - 77s 469ms/step - loss: 0.0784 - acc: 0.9669 - val_loss: 1.8820 - val_acc: 0.6637\n",
            "Epoch 53/100\n",
            "164/164 [==============================] - 77s 468ms/step - loss: 0.0476 - acc: 0.9800 - val_loss: 1.9231 - val_acc: 0.6569\n",
            "Epoch 54/100\n",
            "  7/164 [>.............................] - ETA: 54s - loss: 0.0774 - acc: 0.9643"
          ],
          "name": "stdout"
        },
        {
          "output_type": "stream",
          "text": [
            "164/164 [==============================] - 78s 478ms/step - loss: 0.0544 - acc: 0.9786 - val_loss: 1.9318 - val_acc: 0.6794\n",
            "Epoch 55/100\n",
            "164/164 [==============================] - 78s 477ms/step - loss: 0.0588 - acc: 0.9779 - val_loss: 1.6166 - val_acc: 0.7186\n",
            "Epoch 56/100\n",
            "144/164 [=========================>....] - ETA: 8s - loss: 0.0433 - acc: 0.9817"
          ],
          "name": "stdout"
        },
        {
          "output_type": "stream",
          "text": [
            "164/164 [==============================] - 78s 477ms/step - loss: 0.0455 - acc: 0.9810 - val_loss: 1.7622 - val_acc: 0.6794\n",
            "Epoch 57/100\n",
            "164/164 [==============================] - 78s 476ms/step - loss: 0.1307 - acc: 0.9556 - val_loss: 2.2586 - val_acc: 0.6716\n",
            "Epoch 58/100\n",
            "164/164 [==============================] - 78s 477ms/step - loss: 0.0801 - acc: 0.9687 - val_loss: 1.8849 - val_acc: 0.6873\n",
            "Epoch 59/100\n",
            "  7/164 [>.............................] - ETA: 53s - loss: 0.0559 - acc: 0.9732"
          ],
          "name": "stdout"
        },
        {
          "output_type": "stream",
          "text": [
            "164/164 [==============================] - 78s 477ms/step - loss: 0.0455 - acc: 0.9836 - val_loss: 1.7670 - val_acc: 0.6824\n",
            "Epoch 60/100\n",
            "164/164 [==============================] - 79s 479ms/step - loss: 0.0491 - acc: 0.9829 - val_loss: 2.0121 - val_acc: 0.6863\n",
            "Epoch 61/100\n",
            "144/164 [=========================>....] - ETA: 8s - loss: 0.0689 - acc: 0.9740"
          ],
          "name": "stdout"
        },
        {
          "output_type": "stream",
          "text": [
            "164/164 [==============================] - 78s 476ms/step - loss: 0.0641 - acc: 0.9752 - val_loss: 1.9047 - val_acc: 0.7010\n",
            "Epoch 62/100\n",
            "164/164 [==============================] - 78s 475ms/step - loss: 0.1324 - acc: 0.9623 - val_loss: 1.7505 - val_acc: 0.6804\n",
            "Epoch 63/100\n",
            "164/164 [==============================] - 78s 478ms/step - loss: 0.0680 - acc: 0.9756 - val_loss: 1.6939 - val_acc: 0.7118\n",
            "Epoch 64/100\n",
            "  7/164 [>.............................] - ETA: 54s - loss: 0.0714 - acc: 0.9777"
          ],
          "name": "stdout"
        },
        {
          "output_type": "stream",
          "text": [
            "164/164 [==============================] - 78s 478ms/step - loss: 0.0470 - acc: 0.9821 - val_loss: 1.9851 - val_acc: 0.6863\n",
            "Epoch 65/100\n",
            "164/164 [==============================] - 79s 479ms/step - loss: 0.0410 - acc: 0.9869 - val_loss: 1.6953 - val_acc: 0.7137\n",
            "Epoch 66/100\n",
            "144/164 [=========================>....] - ETA: 8s - loss: 0.1744 - acc: 0.9430"
          ],
          "name": "stdout"
        },
        {
          "output_type": "stream",
          "text": [
            "164/164 [==============================] - 79s 479ms/step - loss: 0.1610 - acc: 0.9457 - val_loss: 1.7631 - val_acc: 0.7098\n",
            "Epoch 67/100\n",
            "164/164 [==============================] - 79s 480ms/step - loss: 0.0621 - acc: 0.9747 - val_loss: 1.8053 - val_acc: 0.7069\n",
            "Epoch 68/100\n",
            "164/164 [==============================] - 78s 478ms/step - loss: 0.0463 - acc: 0.9818 - val_loss: 1.8206 - val_acc: 0.6990\n",
            "Epoch 69/100\n",
            "  7/164 [>.............................] - ETA: 54s - loss: 0.0303 - acc: 0.9732"
          ],
          "name": "stdout"
        },
        {
          "output_type": "stream",
          "text": [
            "164/164 [==============================] - 79s 479ms/step - loss: 0.0798 - acc: 0.9732 - val_loss: 1.9260 - val_acc: 0.6892\n",
            "Epoch 70/100\n",
            "164/164 [==============================] - 78s 479ms/step - loss: 0.0519 - acc: 0.9852 - val_loss: 1.8546 - val_acc: 0.6833\n",
            "Epoch 71/100\n",
            "144/164 [=========================>....] - ETA: 8s - loss: 0.0416 - acc: 0.9857"
          ],
          "name": "stdout"
        },
        {
          "output_type": "stream",
          "text": [
            "164/164 [==============================] - 79s 479ms/step - loss: 0.0395 - acc: 0.9867 - val_loss: 1.6648 - val_acc: 0.7098\n",
            "Epoch 72/100\n",
            "164/164 [==============================] - 79s 481ms/step - loss: 0.0286 - acc: 0.9901 - val_loss: 1.7993 - val_acc: 0.7088\n",
            "Epoch 73/100\n",
            "164/164 [==============================] - 79s 479ms/step - loss: 0.0313 - acc: 0.9913 - val_loss: 1.8825 - val_acc: 0.7186\n",
            "Epoch 74/100\n",
            "  7/164 [>.............................] - ETA: 53s - loss: 0.0390 - acc: 0.9911"
          ],
          "name": "stdout"
        },
        {
          "output_type": "stream",
          "text": [
            "164/164 [==============================] - 79s 479ms/step - loss: 0.0443 - acc: 0.9858 - val_loss: 1.8880 - val_acc: 0.6990\n",
            "Epoch 75/100\n",
            "164/164 [==============================] - 79s 480ms/step - loss: 0.0626 - acc: 0.9795 - val_loss: 2.3845 - val_acc: 0.6529\n",
            "Epoch 76/100\n",
            "144/164 [=========================>....] - ETA: 8s - loss: 0.0550 - acc: 0.9798"
          ],
          "name": "stdout"
        },
        {
          "output_type": "stream",
          "text": [
            "164/164 [==============================] - 79s 480ms/step - loss: 0.0565 - acc: 0.9790 - val_loss: 2.0452 - val_acc: 0.6912\n",
            "Epoch 77/100\n",
            "164/164 [==============================] - 79s 483ms/step - loss: 0.0883 - acc: 0.9675 - val_loss: 2.2445 - val_acc: 0.6922\n",
            "Epoch 78/100\n",
            "164/164 [==============================] - 79s 481ms/step - loss: 0.2334 - acc: 0.9419 - val_loss: 2.7078 - val_acc: 0.6196\n",
            "Epoch 79/100\n",
            "  7/164 [>.............................] - ETA: 54s - loss: 0.3854 - acc: 0.8884"
          ],
          "name": "stdout"
        },
        {
          "output_type": "stream",
          "text": [
            "164/164 [==============================] - 79s 480ms/step - loss: 0.1549 - acc: 0.9456 - val_loss: 2.1641 - val_acc: 0.6657\n",
            "Epoch 80/100\n",
            "164/164 [==============================] - 79s 481ms/step - loss: 0.0542 - acc: 0.9771 - val_loss: 1.6186 - val_acc: 0.7216\n",
            "Epoch 81/100\n",
            "144/164 [=========================>....] - ETA: 8s - loss: 0.0608 - acc: 0.9779"
          ],
          "name": "stdout"
        },
        {
          "output_type": "stream",
          "text": [
            "164/164 [==============================] - 79s 479ms/step - loss: 0.0589 - acc: 0.9785 - val_loss: 1.8712 - val_acc: 0.6961\n",
            "Epoch 82/100\n",
            "164/164 [==============================] - 79s 479ms/step - loss: 0.0427 - acc: 0.9869 - val_loss: 1.7443 - val_acc: 0.7157\n",
            "Epoch 83/100\n",
            "164/164 [==============================] - 79s 482ms/step - loss: 0.0265 - acc: 0.9918 - val_loss: 1.7535 - val_acc: 0.7088\n",
            "Epoch 84/100\n",
            "  7/164 [>.............................] - ETA: 53s - loss: 0.0183 - acc: 0.9821"
          ],
          "name": "stdout"
        },
        {
          "output_type": "stream",
          "text": [
            "164/164 [==============================] - 79s 482ms/step - loss: 0.0238 - acc: 0.9891 - val_loss: 1.8100 - val_acc: 0.7020\n",
            "Epoch 85/100\n",
            "164/164 [==============================] - 78s 478ms/step - loss: 0.1031 - acc: 0.9667 - val_loss: 2.2932 - val_acc: 0.6824\n",
            "Epoch 86/100\n",
            "144/164 [=========================>....] - ETA: 8s - loss: 0.0996 - acc: 0.9661"
          ],
          "name": "stdout"
        },
        {
          "output_type": "stream",
          "text": [
            "164/164 [==============================] - 79s 480ms/step - loss: 0.1246 - acc: 0.9625 - val_loss: 2.7749 - val_acc: 0.6147\n",
            "Epoch 87/100\n",
            "164/164 [==============================] - 79s 481ms/step - loss: 0.2718 - acc: 0.9279 - val_loss: 1.8778 - val_acc: 0.6696\n",
            "Epoch 88/100\n",
            "164/164 [==============================] - 79s 480ms/step - loss: 0.0548 - acc: 0.9772 - val_loss: 1.8121 - val_acc: 0.6990\n",
            "Epoch 89/100\n",
            "  7/164 [>.............................] - ETA: 54s - loss: 0.0158 - acc: 0.9911"
          ],
          "name": "stdout"
        },
        {
          "output_type": "stream",
          "text": [
            "164/164 [==============================] - 78s 477ms/step - loss: 0.0980 - acc: 0.9702 - val_loss: 1.8388 - val_acc: 0.7059\n",
            "Epoch 90/100\n",
            "164/164 [==============================] - 79s 481ms/step - loss: 0.0410 - acc: 0.9836 - val_loss: 1.9519 - val_acc: 0.6961\n",
            "Epoch 91/100\n",
            "144/164 [=========================>....] - ETA: 8s - loss: 0.0245 - acc: 0.9918"
          ],
          "name": "stdout"
        },
        {
          "output_type": "stream",
          "text": [
            "164/164 [==============================] - 79s 480ms/step - loss: 0.0297 - acc: 0.9909 - val_loss: 1.7356 - val_acc: 0.7196\n",
            "Epoch 92/100\n",
            "164/164 [==============================] - 79s 482ms/step - loss: 0.0289 - acc: 0.9897 - val_loss: 1.8404 - val_acc: 0.7078\n",
            "Epoch 93/100\n",
            "164/164 [==============================] - 79s 479ms/step - loss: 0.0312 - acc: 0.9905 - val_loss: 2.0057 - val_acc: 0.7000\n",
            "Epoch 94/100\n",
            "  7/164 [>.............................] - ETA: 53s - loss: 0.0887 - acc: 0.9777"
          ],
          "name": "stdout"
        },
        {
          "output_type": "stream",
          "text": [
            "164/164 [==============================] - 78s 479ms/step - loss: 0.0327 - acc: 0.9891 - val_loss: 2.0281 - val_acc: 0.6784\n",
            "Epoch 95/100\n",
            "164/164 [==============================] - 79s 480ms/step - loss: 0.0518 - acc: 0.9878 - val_loss: 2.0129 - val_acc: 0.6902\n",
            "Epoch 96/100\n",
            "144/164 [=========================>....] - ETA: 8s - loss: 0.0280 - acc: 0.9890"
          ],
          "name": "stdout"
        },
        {
          "output_type": "stream",
          "text": [
            "164/164 [==============================] - 79s 480ms/step - loss: 0.0290 - acc: 0.9890 - val_loss: 1.8273 - val_acc: 0.7147\n",
            "Epoch 97/100\n",
            "164/164 [==============================] - 79s 480ms/step - loss: 0.0383 - acc: 0.9889 - val_loss: 1.9259 - val_acc: 0.7098\n",
            "Epoch 98/100\n",
            "164/164 [==============================] - 79s 482ms/step - loss: 0.0452 - acc: 0.9842 - val_loss: 1.9060 - val_acc: 0.7157\n",
            "Epoch 99/100\n",
            "  7/164 [>.............................] - ETA: 53s - loss: 0.0107 - acc: 0.9911"
          ],
          "name": "stdout"
        },
        {
          "output_type": "stream",
          "text": [
            "164/164 [==============================] - 79s 480ms/step - loss: 0.0358 - acc: 0.9888 - val_loss: 1.8146 - val_acc: 0.7029\n",
            "Epoch 100/100\n",
            "164/164 [==============================] - 79s 482ms/step - loss: 0.0327 - acc: 0.9880 - val_loss: 1.9830 - val_acc: 0.6922\n"
          ],
          "name": "stdout"
        }
      ]
    },
    {
      "metadata": {
        "id": "T4zqyBVMXngt",
        "colab_type": "code",
        "colab": {
          "autoexec": {
            "startup": false,
            "wait_interval": 0
          }
        }
      },
      "cell_type": "code",
      "source": [
        "\"\"\"\n",
        "サンプルのモデルの定義と訓練を行うモジュール\n",
        "vgg16をベースにした転移学習モデルとなっている。\n",
        "\"\"\"\n",
        "from keras.models import Model,Sequential\n",
        "import tensorflow as tf\n",
        "from keras.layers.convolutional import Conv2D\n",
        "from keras.layers import Activation, Dense, GlobalAveragePooling2D, Input, InputLayer, Lambda, Dropout, BatchNormalization,LeakyReLU\n",
        "from keras.backend import sigmoid\n",
        "from keras.applications.vgg16 import VGG16, preprocess_input\n",
        "from keras.preprocessing.image import ImageDataGenerator\n",
        "from keras.optimizers import SGD, Adam\n",
        "from keras.callbacks import CSVLogger\n",
        "from keras.callbacks import TensorBoard, EarlyStopping\n",
        "import sys\n",
        "import numpy as np\n",
        "from collections import Counter\n",
        "import continue_fit as cf\n",
        "from keras.utils import multi_gpu_model\n",
        "from keras import regularizers\n",
        "from keras.layers.advanced_activations import LeakyReLU\n",
        "\n",
        "def vgg_based_model(input_shape, n_categories, fulltraining = False):\n",
        "    \"\"\"\n",
        "    VGG16をベースにした転移学習モデルを生成する。\n",
        "    fulltraining: Trueにすると、ベースモデルも含めて訓練可能にする。訓練速度が非常に遅くなる。\n",
        "    \"\"\"\n",
        "    base_model=VGG16(weights='imagenet',include_top=False,\n",
        "                    input_tensor=Input(shape=input_shape))\n",
        "\n",
        "    #add new layers instead of FC networks\n",
        "    x=base_model.output\n",
        "    x=GlobalAveragePooling2D()(x)\n",
        "    x=Dense(1024)(x)\n",
        "    x=BatchNormalization()(x)\n",
        "    x=Activation(LeakyReLU())(x)\n",
        "    x=Dropout(0.6)(x)\n",
        "    x=Dense(1024)(x)\n",
        "    x=BatchNormalization()(x)\n",
        "    x=Activation(LeakyReLU())(x)\n",
        "    x=Dropout(0.6)(x)\n",
        "    prediction=Dense(n_categories,activation='softmax')(x)\n",
        "    model=Model(inputs=base_model.input,outputs=prediction)\n",
        "\n",
        "    if not fulltraining:\n",
        "        # fix weights before VGG16 14layers\n",
        "        for layer in base_model.layers[:15]:\n",
        "            layer.trainable=False\n",
        "    return model\n"
      ],
      "execution_count": 0,
      "outputs": []
    },
    {
      "metadata": {
        "id": "90Pl6WX-619M",
        "colab_type": "code",
        "colab": {
          "autoexec": {
            "startup": false,
            "wait_interval": 0
          },
          "base_uri": "https://localhost:8080/",
          "height": 3662
        },
        "outputId": "43a732d1-54b7-40e0-f0c6-d44670d16fe9",
        "executionInfo": {
          "status": "ok",
          "timestamp": 1532841017587,
          "user_tz": -540,
          "elapsed": 8072928,
          "user": {
            "displayName": "",
            "photoUrl": "",
            "userId": ""
          }
        }
      },
      "cell_type": "code",
      "source": [
        "# コマンドライン引数の定義/評価\n",
        "batch_size=32\n",
        "input_shape = (224,224,3)\n",
        "#  parser = argparse.ArgumentParser()\n",
        "# parser.add_argument(\"model_name\", help=\"保存するモデルファイルの名前、兼tensorBoardのログディレクトリ名\")\n",
        "# parser.add_argument(\"-t\", \"--train_dir\", default='resized_cleaned', help=\"トレーニングデータセットが入っているディレクトリ\")\n",
        "# parser.add_argument(\"-v\",\"--validation_dir\",default='resized_val', help =\"バリデーションデータセットが入っているディレクトリ\")\n",
        "# args = parser.parse_args()\n",
        "\n",
        "\n",
        "file_name = 'test10' #args.model_name\n",
        "train_dir= 'resized_cleaned' # args.train_dir\n",
        "validation_dir= 'resized_val' # args.validation_dir\n",
        "\n",
        "#訓練データの読み込み及びデータ拡張を行うための画像ジェネレータを生成。\n",
        "#VGG16用の前処理及び平行移動、回転、左右反転、シアー変換をランダムにかける。\n",
        "train_datagen=ImageDataGenerator(\n",
        "    preprocessing_function=preprocess_input, #VGG16の前処理\n",
        "    height_shift_range=5,\n",
        "    width_shift_range=5,\n",
        "    shear_range=0.05,\n",
        "    zoom_range=0.95,\n",
        "    rotation_range=7,\n",
        "    horizontal_flip=True,\n",
        "    )\n",
        "train_generator=train_datagen.flow_from_directory(\n",
        "    train_dir,\n",
        "    target_size=input_shape[0:2],\n",
        "    batch_size=batch_size,\n",
        "    class_mode='categorical',\n",
        "    shuffle=True\n",
        "    )\n",
        "\n",
        "\n",
        "n_categories=len(train_generator.class_indices)\n",
        "#サンプルの多いクラスに予測が集中しないように、少ないサンプルのクラスほど重くなるように重みづけ\n",
        "class_weight ={ clss: len(train_generator.classes) / len(train_generator.class_indices) / count\n",
        "                 for (clss,count) in Counter(train_generator.classes).most_common() }\n",
        "print(\"classes:\",train_generator.class_indices)\n",
        "print(\"class weight:\",class_weight)\n",
        "\n",
        "#バリデーションデータの画像読み込み処理を行うジェネレータを生成\n",
        "validation_datagen=ImageDataGenerator(\n",
        "    preprocessing_function=preprocess_input,\n",
        "    )\n",
        "validation_generator=validation_datagen.flow_from_directory(\n",
        "    validation_dir,\n",
        "    target_size=input_shape[0:2],\n",
        "    batch_size=batch_size,\n",
        "    class_mode='categorical',\n",
        "    shuffle=True\n",
        ")\n",
        "\n",
        "model = vgg_based_model(input_shape, n_categories)\n",
        "# parallel_model = multi_gpu_model(model, gpus=2)   #マルチGPUを使うときはこちら\n",
        "\n",
        "model.compile(optimizer=Adam(lr=1e-3),\n",
        "            loss='categorical_crossentropy',\n",
        "            metrics=['accuracy'])\n",
        "\n",
        "#訓練(中断しても続きから継続できる)\n",
        "hist=model.fit_generator(\n",
        "    train_generator,\n",
        "    epochs=100,\n",
        "    #initial_epoch=cf.load_epoch_init(file_name), # 同じモデル名でも結果を引き継がないようにコメントアウト\n",
        "    # use_multiprocessing=True,\n",
        "    verbose=1,\n",
        "    workers=8,\n",
        "    validation_data=validation_generator,\n",
        "    class_weight=class_weight,\n",
        "    callbacks=[\n",
        "        CSVLogger(file_name+'.csv'),\n",
        "        TensorBoard(file_name),\n",
        "        # cf.early_stopping(model, file_name),\n",
        "        ])"
      ],
      "execution_count": 13,
      "outputs": [
        {
          "output_type": "stream",
          "text": [
            "Found 5234 images belonging to 11 classes.\n",
            "classes: {'ALC板': 0, 'ガラスカーテンウォール': 1, 'ガラスブロック': 2, 'コンクリートブロック': 3, 'コンクリート打ち放し': 4, 'スパンドレル': 5, 'スレート波板張り': 6, 'タイル張り': 7, '吹付タイル': 8, '押出成形セメント板': 9, '石張り': 10}\n",
            "class weight: {7: 0.38527788001472213, 1: 0.48701963338606125, 3: 0.6000229278917804, 4: 0.8994672624162227, 5: 0.967110125646711, 0: 1.310793889306286, 2: 1.6295143212951433, 9: 2.0687747035573123, 8: 2.44009324009324, 10: 5.4070247933884295, 6: 11.895454545454545}\n",
            "Found 1020 images belonging to 11 classes.\n"
          ],
          "name": "stdout"
        },
        {
          "output_type": "stream",
          "text": [
            "/usr/local/lib/python3.6/dist-packages/keras/activations.py:115: UserWarning: Do not pass a layer instance (such as LeakyReLU) as the activation argument of another layer. Instead, advanced activation layers should be used just like any other layer in a model.\n",
            "  identifier=identifier.__class__.__name__))\n"
          ],
          "name": "stderr"
        },
        {
          "output_type": "stream",
          "text": [
            "Epoch 1/100\n",
            "164/164 [==============================] - 87s 527ms/step - loss: 3.1346 - acc: 0.1253 - val_loss: 2.3139 - val_acc: 0.2422\n",
            "Epoch 2/100\n",
            "164/164 [==============================] - 81s 494ms/step - loss: 2.5021 - acc: 0.2020 - val_loss: 3.6806 - val_acc: 0.1637\n",
            "Epoch 3/100\n",
            "129/164 [======================>.......] - ETA: 15s - loss: 2.5000 - acc: 0.1853"
          ],
          "name": "stdout"
        },
        {
          "output_type": "stream",
          "text": [
            "164/164 [==============================] - 83s 504ms/step - loss: 2.4294 - acc: 0.2031 - val_loss: 2.2228 - val_acc: 0.3529\n",
            "Epoch 4/100\n",
            "164/164 [==============================] - 84s 511ms/step - loss: 2.0443 - acc: 0.2688 - val_loss: 2.5159 - val_acc: 0.2598\n",
            "Epoch 5/100\n",
            "164/164 [==============================] - 81s 495ms/step - loss: 2.1067 - acc: 0.2688 - val_loss: 2.0744 - val_acc: 0.3598\n",
            "Epoch 6/100\n",
            "  6/164 [>.............................] - ETA: 55s - loss: 1.7584 - acc: 0.3542"
          ],
          "name": "stdout"
        },
        {
          "output_type": "stream",
          "text": [
            "164/164 [==============================] - 82s 503ms/step - loss: 1.9633 - acc: 0.3264 - val_loss: 1.8659 - val_acc: 0.3451\n",
            "Epoch 7/100\n",
            "164/164 [==============================] - 82s 500ms/step - loss: 1.8616 - acc: 0.3562 - val_loss: 2.0443 - val_acc: 0.4069\n",
            "Epoch 8/100\n",
            "146/164 [=========================>....] - ETA: 7s - loss: 1.7183 - acc: 0.4018"
          ],
          "name": "stdout"
        },
        {
          "output_type": "stream",
          "text": [
            "164/164 [==============================] - 83s 503ms/step - loss: 1.7185 - acc: 0.4049 - val_loss: 1.8021 - val_acc: 0.4382\n",
            "Epoch 9/100\n",
            "164/164 [==============================] - 82s 502ms/step - loss: 1.6448 - acc: 0.4245 - val_loss: 1.7994 - val_acc: 0.4578\n",
            "Epoch 10/100\n",
            "164/164 [==============================] - 83s 505ms/step - loss: 1.6142 - acc: 0.4519 - val_loss: 1.6781 - val_acc: 0.4873\n",
            "Epoch 11/100\n",
            "  8/164 [>.............................] - ETA: 54s - loss: 1.8313 - acc: 0.4414"
          ],
          "name": "stdout"
        },
        {
          "output_type": "stream",
          "text": [
            "164/164 [==============================] - 83s 505ms/step - loss: 1.5677 - acc: 0.4415 - val_loss: 1.6786 - val_acc: 0.4647\n",
            "Epoch 12/100\n",
            "164/164 [==============================] - 82s 503ms/step - loss: 1.4918 - acc: 0.4698 - val_loss: 1.4227 - val_acc: 0.5363\n",
            "Epoch 13/100\n",
            "145/164 [=========================>....] - ETA: 8s - loss: 1.4494 - acc: 0.4773"
          ],
          "name": "stdout"
        },
        {
          "output_type": "stream",
          "text": [
            "164/164 [==============================] - 82s 503ms/step - loss: 1.4426 - acc: 0.4796 - val_loss: 1.6162 - val_acc: 0.5127\n",
            "Epoch 14/100\n",
            "164/164 [==============================] - 82s 503ms/step - loss: 1.4359 - acc: 0.4966 - val_loss: 1.5110 - val_acc: 0.4961\n",
            "Epoch 15/100\n",
            "164/164 [==============================] - 82s 499ms/step - loss: 1.4394 - acc: 0.4909 - val_loss: 1.3674 - val_acc: 0.5725\n",
            "Epoch 16/100\n",
            "  7/164 [>.............................] - ETA: 54s - loss: 1.3389 - acc: 0.5402"
          ],
          "name": "stdout"
        },
        {
          "output_type": "stream",
          "text": [
            "164/164 [==============================] - 83s 508ms/step - loss: 1.4626 - acc: 0.4969 - val_loss: 2.2852 - val_acc: 0.4137\n",
            "Epoch 17/100\n",
            "164/164 [==============================] - 83s 507ms/step - loss: 1.3668 - acc: 0.5311 - val_loss: 1.7695 - val_acc: 0.4588\n",
            "Epoch 18/100\n",
            "144/164 [=========================>....] - ETA: 8s - loss: 1.3145 - acc: 0.5304"
          ],
          "name": "stdout"
        },
        {
          "output_type": "stream",
          "text": [
            "164/164 [==============================] - 83s 508ms/step - loss: 1.2959 - acc: 0.5357 - val_loss: 1.2806 - val_acc: 0.6186\n",
            "Epoch 19/100\n",
            "164/164 [==============================] - 83s 508ms/step - loss: 1.3186 - acc: 0.5456 - val_loss: 1.2557 - val_acc: 0.6255\n",
            "Epoch 20/100\n",
            "164/164 [==============================] - 83s 509ms/step - loss: 1.2597 - acc: 0.5618 - val_loss: 1.3786 - val_acc: 0.6049\n",
            "Epoch 21/100\n",
            "  7/164 [>.............................] - ETA: 54s - loss: 1.3004 - acc: 0.5605"
          ],
          "name": "stdout"
        },
        {
          "output_type": "stream",
          "text": [
            "164/164 [==============================] - 84s 510ms/step - loss: 1.2432 - acc: 0.5596 - val_loss: 1.0936 - val_acc: 0.6745\n",
            "Epoch 22/100\n",
            "164/164 [==============================] - 83s 506ms/step - loss: 1.2186 - acc: 0.5868 - val_loss: 1.1759 - val_acc: 0.6922\n",
            "Epoch 23/100\n",
            "144/164 [=========================>....] - ETA: 8s - loss: 1.1591 - acc: 0.5818"
          ],
          "name": "stdout"
        },
        {
          "output_type": "stream",
          "text": [
            "164/164 [==============================] - 83s 507ms/step - loss: 1.1577 - acc: 0.5796 - val_loss: 1.3398 - val_acc: 0.6402\n",
            "Epoch 24/100\n",
            "164/164 [==============================] - 84s 509ms/step - loss: 1.1938 - acc: 0.5886 - val_loss: 1.1400 - val_acc: 0.6637\n",
            "Epoch 25/100\n",
            "164/164 [==============================] - 83s 507ms/step - loss: 1.1715 - acc: 0.5795 - val_loss: 1.4596 - val_acc: 0.5706\n",
            "Epoch 26/100\n",
            "  7/164 [>.............................] - ETA: 54s - loss: 1.3646 - acc: 0.5491"
          ],
          "name": "stdout"
        },
        {
          "output_type": "stream",
          "text": [
            "164/164 [==============================] - 83s 509ms/step - loss: 1.1334 - acc: 0.5948 - val_loss: 1.2823 - val_acc: 0.6578\n",
            "Epoch 27/100\n",
            "164/164 [==============================] - 83s 506ms/step - loss: 1.1374 - acc: 0.5971 - val_loss: 1.3934 - val_acc: 0.5941\n",
            "Epoch 28/100\n",
            "144/164 [=========================>....] - ETA: 8s - loss: 1.2023 - acc: 0.5807"
          ],
          "name": "stdout"
        },
        {
          "output_type": "stream",
          "text": [
            "164/164 [==============================] - 83s 507ms/step - loss: 1.1998 - acc: 0.5796 - val_loss: 1.4851 - val_acc: 0.5824\n",
            "Epoch 29/100\n",
            "164/164 [==============================] - 83s 504ms/step - loss: 1.0959 - acc: 0.6001 - val_loss: 1.1297 - val_acc: 0.6922\n",
            "Epoch 30/100\n",
            "164/164 [==============================] - 83s 507ms/step - loss: 1.1321 - acc: 0.6065 - val_loss: 1.1876 - val_acc: 0.6667\n",
            "Epoch 31/100\n",
            "  7/164 [>.............................] - ETA: 55s - loss: 1.0413 - acc: 0.6071"
          ],
          "name": "stdout"
        },
        {
          "output_type": "stream",
          "text": [
            "164/164 [==============================] - 84s 509ms/step - loss: 1.0809 - acc: 0.6185 - val_loss: 1.2982 - val_acc: 0.6608\n",
            "Epoch 32/100\n",
            "164/164 [==============================] - 83s 509ms/step - loss: 1.0329 - acc: 0.6245 - val_loss: 1.1659 - val_acc: 0.6755\n",
            "Epoch 33/100\n",
            "144/164 [=========================>....] - ETA: 8s - loss: 1.0822 - acc: 0.6044"
          ],
          "name": "stdout"
        },
        {
          "output_type": "stream",
          "text": [
            "164/164 [==============================] - 83s 507ms/step - loss: 1.0767 - acc: 0.6067 - val_loss: 1.2947 - val_acc: 0.6353\n",
            "Epoch 34/100\n",
            "164/164 [==============================] - 84s 510ms/step - loss: 1.0481 - acc: 0.6282 - val_loss: 1.1095 - val_acc: 0.7186\n",
            "Epoch 35/100\n",
            "164/164 [==============================] - 83s 508ms/step - loss: 1.0523 - acc: 0.6329 - val_loss: 1.1524 - val_acc: 0.6912\n",
            "Epoch 36/100\n",
            "  7/164 [>.............................] - ETA: 55s - loss: 1.0276 - acc: 0.6607"
          ],
          "name": "stdout"
        },
        {
          "output_type": "stream",
          "text": [
            "164/164 [==============================] - 83s 505ms/step - loss: 1.0363 - acc: 0.6266 - val_loss: 1.0900 - val_acc: 0.6941\n",
            "Epoch 37/100\n",
            "164/164 [==============================] - 83s 505ms/step - loss: 1.0191 - acc: 0.6339 - val_loss: 1.1484 - val_acc: 0.7078\n",
            "Epoch 38/100\n",
            "144/164 [=========================>....] - ETA: 8s - loss: 1.0357 - acc: 0.6311"
          ],
          "name": "stdout"
        },
        {
          "output_type": "stream",
          "text": [
            "164/164 [==============================] - 83s 506ms/step - loss: 1.0180 - acc: 0.6344 - val_loss: 1.2452 - val_acc: 0.6608\n",
            "Epoch 39/100\n",
            "164/164 [==============================] - 83s 504ms/step - loss: 0.9711 - acc: 0.6471 - val_loss: 1.1864 - val_acc: 0.6775\n",
            "Epoch 40/100\n",
            "164/164 [==============================] - 83s 505ms/step - loss: 1.0058 - acc: 0.6378 - val_loss: 1.1432 - val_acc: 0.7137\n",
            "Epoch 41/100\n",
            "  7/164 [>.............................] - ETA: 54s - loss: 0.8849 - acc: 0.6652"
          ],
          "name": "stdout"
        },
        {
          "output_type": "stream",
          "text": [
            "164/164 [==============================] - 83s 505ms/step - loss: 0.8677 - acc: 0.6796 - val_loss: 1.1696 - val_acc: 0.7029\n",
            "Epoch 42/100\n",
            "164/164 [==============================] - 83s 505ms/step - loss: 0.8945 - acc: 0.6633 - val_loss: 1.3352 - val_acc: 0.6431\n",
            "Epoch 43/100\n",
            "144/164 [=========================>....] - ETA: 8s - loss: 0.9436 - acc: 0.6586"
          ],
          "name": "stdout"
        },
        {
          "output_type": "stream",
          "text": [
            "164/164 [==============================] - 83s 507ms/step - loss: 0.9325 - acc: 0.6623 - val_loss: 1.1506 - val_acc: 0.7039\n",
            "Epoch 44/100\n",
            "164/164 [==============================] - 82s 499ms/step - loss: 0.8788 - acc: 0.6773 - val_loss: 1.0768 - val_acc: 0.7078\n",
            "Epoch 45/100\n",
            "164/164 [==============================] - 81s 496ms/step - loss: 0.8471 - acc: 0.6840 - val_loss: 1.1837 - val_acc: 0.7078\n",
            "Epoch 46/100\n",
            "  7/164 [>.............................] - ETA: 54s - loss: 0.8873 - acc: 0.6518"
          ],
          "name": "stdout"
        },
        {
          "output_type": "stream",
          "text": [
            "164/164 [==============================] - 81s 497ms/step - loss: 0.8684 - acc: 0.6810 - val_loss: 1.1726 - val_acc: 0.7078\n",
            "Epoch 47/100\n",
            "164/164 [==============================] - 81s 495ms/step - loss: 0.8689 - acc: 0.6855 - val_loss: 1.1947 - val_acc: 0.7078\n",
            "Epoch 48/100\n",
            "144/164 [=========================>....] - ETA: 8s - loss: 0.8978 - acc: 0.6744"
          ],
          "name": "stdout"
        },
        {
          "output_type": "stream",
          "text": [
            "164/164 [==============================] - 81s 495ms/step - loss: 0.8962 - acc: 0.6705 - val_loss: 1.3502 - val_acc: 0.6931\n",
            "Epoch 49/100\n",
            "164/164 [==============================] - 81s 494ms/step - loss: 0.8685 - acc: 0.6794 - val_loss: 1.2461 - val_acc: 0.6853\n",
            "Epoch 50/100\n",
            "164/164 [==============================] - 81s 494ms/step - loss: 0.8095 - acc: 0.6975 - val_loss: 1.2081 - val_acc: 0.7108\n",
            "Epoch 51/100\n",
            "  7/164 [>.............................] - ETA: 54s - loss: 0.5121 - acc: 0.7589"
          ],
          "name": "stdout"
        },
        {
          "output_type": "stream",
          "text": [
            "164/164 [==============================] - 81s 494ms/step - loss: 0.7909 - acc: 0.7072 - val_loss: 1.2658 - val_acc: 0.6804\n",
            "Epoch 52/100\n",
            "164/164 [==============================] - 80s 491ms/step - loss: 0.7937 - acc: 0.7136 - val_loss: 1.1401 - val_acc: 0.7206\n",
            "Epoch 53/100\n",
            "144/164 [=========================>....] - ETA: 8s - loss: 0.7789 - acc: 0.7042"
          ],
          "name": "stdout"
        },
        {
          "output_type": "stream",
          "text": [
            "164/164 [==============================] - 81s 496ms/step - loss: 0.8106 - acc: 0.6986 - val_loss: 1.2413 - val_acc: 0.6853\n",
            "Epoch 54/100\n",
            "164/164 [==============================] - 80s 490ms/step - loss: 0.7414 - acc: 0.7276 - val_loss: 1.2102 - val_acc: 0.7108\n",
            "Epoch 55/100\n",
            "164/164 [==============================] - 81s 492ms/step - loss: 0.7666 - acc: 0.7146 - val_loss: 1.3533 - val_acc: 0.6814\n",
            "Epoch 56/100\n",
            "  7/164 [>.............................] - ETA: 54s - loss: 0.7881 - acc: 0.7634"
          ],
          "name": "stdout"
        },
        {
          "output_type": "stream",
          "text": [
            "164/164 [==============================] - 81s 493ms/step - loss: 0.7182 - acc: 0.7161 - val_loss: 1.1684 - val_acc: 0.7196\n",
            "Epoch 57/100\n",
            "164/164 [==============================] - 81s 492ms/step - loss: 0.7645 - acc: 0.7183 - val_loss: 1.2608 - val_acc: 0.7147\n",
            "Epoch 58/100\n",
            "144/164 [=========================>....] - ETA: 8s - loss: 0.7154 - acc: 0.7284"
          ],
          "name": "stdout"
        },
        {
          "output_type": "stream",
          "text": [
            "164/164 [==============================] - 82s 497ms/step - loss: 0.7252 - acc: 0.7267 - val_loss: 1.1978 - val_acc: 0.7255\n",
            "Epoch 59/100\n",
            "164/164 [==============================] - 83s 507ms/step - loss: 0.7657 - acc: 0.7272 - val_loss: 1.2275 - val_acc: 0.7157\n",
            "Epoch 60/100\n",
            "164/164 [==============================] - 83s 506ms/step - loss: 0.7510 - acc: 0.7277 - val_loss: 1.4841 - val_acc: 0.6765\n",
            "Epoch 61/100\n",
            "  7/164 [>.............................] - ETA: 54s - loss: 0.9767 - acc: 0.6518"
          ],
          "name": "stdout"
        },
        {
          "output_type": "stream",
          "text": [
            "164/164 [==============================] - 82s 501ms/step - loss: 0.7498 - acc: 0.7198 - val_loss: 1.2684 - val_acc: 0.6725\n",
            "Epoch 62/100\n",
            "164/164 [==============================] - 81s 491ms/step - loss: 0.7184 - acc: 0.7312 - val_loss: 1.1901 - val_acc: 0.7324\n",
            "Epoch 63/100\n",
            "144/164 [=========================>....] - ETA: 8s - loss: 0.6933 - acc: 0.7434"
          ],
          "name": "stdout"
        },
        {
          "output_type": "stream",
          "text": [
            "164/164 [==============================] - 81s 496ms/step - loss: 0.6863 - acc: 0.7446 - val_loss: 1.3071 - val_acc: 0.7333\n",
            "Epoch 64/100\n",
            "164/164 [==============================] - 78s 475ms/step - loss: 0.6599 - acc: 0.7324 - val_loss: 1.3033 - val_acc: 0.7078\n",
            "Epoch 65/100\n",
            "164/164 [==============================] - 79s 481ms/step - loss: 0.6830 - acc: 0.7379 - val_loss: 1.2916 - val_acc: 0.7402\n",
            "Epoch 66/100\n",
            "  7/164 [>.............................] - ETA: 54s - loss: 0.9381 - acc: 0.7143"
          ],
          "name": "stdout"
        },
        {
          "output_type": "stream",
          "text": [
            "164/164 [==============================] - 79s 480ms/step - loss: 0.6720 - acc: 0.7425 - val_loss: 1.1209 - val_acc: 0.7510\n",
            "Epoch 67/100\n",
            "164/164 [==============================] - 79s 480ms/step - loss: 0.6720 - acc: 0.7449 - val_loss: 1.2930 - val_acc: 0.7343\n",
            "Epoch 68/100\n",
            "144/164 [=========================>....] - ETA: 8s - loss: 0.6977 - acc: 0.7398"
          ],
          "name": "stdout"
        },
        {
          "output_type": "stream",
          "text": [
            "164/164 [==============================] - 77s 472ms/step - loss: 0.7082 - acc: 0.7382 - val_loss: 1.2821 - val_acc: 0.7167\n",
            "Epoch 69/100\n",
            "164/164 [==============================] - 80s 488ms/step - loss: 0.6798 - acc: 0.7418 - val_loss: 1.1678 - val_acc: 0.7353\n",
            "Epoch 70/100\n",
            "164/164 [==============================] - 80s 485ms/step - loss: 0.6357 - acc: 0.7554 - val_loss: 1.2193 - val_acc: 0.7206\n",
            "Epoch 71/100\n",
            "  7/164 [>.............................] - ETA: 54s - loss: 0.5634 - acc: 0.7455"
          ],
          "name": "stdout"
        },
        {
          "output_type": "stream",
          "text": [
            "164/164 [==============================] - 79s 479ms/step - loss: 0.6563 - acc: 0.7555 - val_loss: 1.3978 - val_acc: 0.6990\n",
            "Epoch 72/100\n",
            "164/164 [==============================] - 79s 483ms/step - loss: 0.5918 - acc: 0.7653 - val_loss: 1.3536 - val_acc: 0.7255\n",
            "Epoch 73/100\n",
            "144/164 [=========================>....] - ETA: 8s - loss: 0.6174 - acc: 0.7640"
          ],
          "name": "stdout"
        },
        {
          "output_type": "stream",
          "text": [
            "164/164 [==============================] - 78s 476ms/step - loss: 0.6504 - acc: 0.7602 - val_loss: 1.4588 - val_acc: 0.7216\n",
            "Epoch 74/100\n",
            "164/164 [==============================] - 78s 473ms/step - loss: 0.6474 - acc: 0.7451 - val_loss: 1.3183 - val_acc: 0.7039\n",
            "Epoch 75/100\n",
            "164/164 [==============================] - 77s 470ms/step - loss: 0.6315 - acc: 0.7488 - val_loss: 1.6204 - val_acc: 0.6676\n",
            "Epoch 76/100\n",
            "  7/164 [>.............................] - ETA: 54s - loss: 0.6310 - acc: 0.7902"
          ],
          "name": "stdout"
        },
        {
          "output_type": "stream",
          "text": [
            "164/164 [==============================] - 77s 467ms/step - loss: 0.7102 - acc: 0.7480 - val_loss: 1.2798 - val_acc: 0.7324\n",
            "Epoch 77/100\n",
            "164/164 [==============================] - 77s 472ms/step - loss: 0.6507 - acc: 0.7550 - val_loss: 1.4077 - val_acc: 0.6941\n",
            "Epoch 78/100\n",
            "144/164 [=========================>....] - ETA: 8s - loss: 0.6429 - acc: 0.7598"
          ],
          "name": "stdout"
        },
        {
          "output_type": "stream",
          "text": [
            "164/164 [==============================] - 77s 469ms/step - loss: 0.6320 - acc: 0.7615 - val_loss: 1.3156 - val_acc: 0.7353\n",
            "Epoch 79/100\n",
            "164/164 [==============================] - 77s 471ms/step - loss: 0.6411 - acc: 0.7718 - val_loss: 1.2205 - val_acc: 0.7392\n",
            "Epoch 80/100\n",
            "164/164 [==============================] - 77s 469ms/step - loss: 0.5526 - acc: 0.7885 - val_loss: 1.4320 - val_acc: 0.6912\n",
            "Epoch 81/100\n",
            "  7/164 [>.............................] - ETA: 54s - loss: 0.4803 - acc: 0.7321"
          ],
          "name": "stdout"
        },
        {
          "output_type": "stream",
          "text": [
            "164/164 [==============================] - 77s 471ms/step - loss: 0.5999 - acc: 0.7703 - val_loss: 1.3060 - val_acc: 0.7324\n",
            "Epoch 82/100\n",
            "164/164 [==============================] - 76s 464ms/step - loss: 0.5827 - acc: 0.7817 - val_loss: 1.4157 - val_acc: 0.7333\n",
            "Epoch 83/100\n",
            "144/164 [=========================>....] - ETA: 8s - loss: 0.5696 - acc: 0.7776"
          ],
          "name": "stdout"
        },
        {
          "output_type": "stream",
          "text": [
            "164/164 [==============================] - 79s 483ms/step - loss: 0.5669 - acc: 0.7757 - val_loss: 1.7573 - val_acc: 0.6745\n",
            "Epoch 84/100\n",
            "164/164 [==============================] - 79s 484ms/step - loss: 0.5573 - acc: 0.7883 - val_loss: 1.4155 - val_acc: 0.7294\n",
            "Epoch 85/100\n",
            "164/164 [==============================] - 79s 484ms/step - loss: 0.6524 - acc: 0.7718 - val_loss: 2.0097 - val_acc: 0.6843\n",
            "Epoch 86/100\n",
            "  7/164 [>.............................] - ETA: 54s - loss: 0.5744 - acc: 0.7723"
          ],
          "name": "stdout"
        },
        {
          "output_type": "stream",
          "text": [
            "164/164 [==============================] - 80s 486ms/step - loss: 0.6054 - acc: 0.7685 - val_loss: 1.4371 - val_acc: 0.7186\n",
            "Epoch 87/100\n",
            "164/164 [==============================] - 77s 470ms/step - loss: 0.6349 - acc: 0.7681 - val_loss: 1.5069 - val_acc: 0.7098\n",
            "Epoch 88/100\n",
            "144/164 [=========================>....] - ETA: 8s - loss: 0.5371 - acc: 0.7898"
          ],
          "name": "stdout"
        },
        {
          "output_type": "stream",
          "text": [
            "164/164 [==============================] - 77s 469ms/step - loss: 0.5355 - acc: 0.7944 - val_loss: 1.3752 - val_acc: 0.7039\n",
            "Epoch 89/100\n",
            "164/164 [==============================] - 75s 459ms/step - loss: 0.5317 - acc: 0.7959 - val_loss: 1.3218 - val_acc: 0.7314\n",
            "Epoch 90/100\n",
            "164/164 [==============================] - 77s 470ms/step - loss: 0.5424 - acc: 0.7868 - val_loss: 1.3685 - val_acc: 0.7245\n",
            "Epoch 91/100\n",
            "  7/164 [>.............................] - ETA: 54s - loss: 0.5478 - acc: 0.7946"
          ],
          "name": "stdout"
        },
        {
          "output_type": "stream",
          "text": [
            "164/164 [==============================] - 76s 462ms/step - loss: 0.5493 - acc: 0.7948 - val_loss: 1.3845 - val_acc: 0.7294\n",
            "Epoch 92/100\n",
            "164/164 [==============================] - 77s 472ms/step - loss: 0.4939 - acc: 0.8012 - val_loss: 1.4533 - val_acc: 0.7206\n",
            "Epoch 93/100\n",
            "144/164 [=========================>....] - ETA: 8s - loss: 0.5247 - acc: 0.8020"
          ],
          "name": "stdout"
        },
        {
          "output_type": "stream",
          "text": [
            "164/164 [==============================] - 76s 464ms/step - loss: 0.5293 - acc: 0.7981 - val_loss: 1.5584 - val_acc: 0.6951\n",
            "Epoch 94/100\n",
            "164/164 [==============================] - 76s 462ms/step - loss: 0.5256 - acc: 0.7963 - val_loss: 1.5867 - val_acc: 0.6853\n",
            "Epoch 95/100\n",
            "164/164 [==============================] - 76s 465ms/step - loss: 0.5123 - acc: 0.7917 - val_loss: 1.5010 - val_acc: 0.7225\n",
            "Epoch 96/100\n",
            "  7/164 [>.............................] - ETA: 54s - loss: 0.4565 - acc: 0.8036"
          ],
          "name": "stdout"
        },
        {
          "output_type": "stream",
          "text": [
            "164/164 [==============================] - 78s 473ms/step - loss: 0.5059 - acc: 0.8097 - val_loss: 1.3112 - val_acc: 0.7294\n",
            "Epoch 97/100\n",
            "164/164 [==============================] - 76s 465ms/step - loss: 0.4986 - acc: 0.8058 - val_loss: 1.3231 - val_acc: 0.7363\n",
            "Epoch 98/100\n",
            "144/164 [=========================>....] - ETA: 8s - loss: 0.4918 - acc: 0.8066"
          ],
          "name": "stdout"
        },
        {
          "output_type": "stream",
          "text": [
            "164/164 [==============================] - 77s 471ms/step - loss: 0.4924 - acc: 0.8077 - val_loss: 1.2483 - val_acc: 0.7500\n",
            "Epoch 99/100\n",
            "164/164 [==============================] - 79s 479ms/step - loss: 0.5265 - acc: 0.8048 - val_loss: 1.3872 - val_acc: 0.7245\n",
            "Epoch 100/100\n",
            "164/164 [==============================] - 77s 469ms/step - loss: 0.4573 - acc: 0.8158 - val_loss: 1.4645 - val_acc: 0.7245\n"
          ],
          "name": "stdout"
        }
      ]
    },
    {
      "metadata": {
        "id": "PKeVXiuK6---",
        "colab_type": "code",
        "colab": {
          "autoexec": {
            "startup": false,
            "wait_interval": 0
          }
        }
      },
      "cell_type": "code",
      "source": [
        ""
      ],
      "execution_count": 0,
      "outputs": []
    }
  ]
}
